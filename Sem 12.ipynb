{
 "cells": [
  {
   "cell_type": "markdown",
   "id": "54f107bb",
   "metadata": {},
   "source": [
    "1 задание"
   ]
  },
  {
   "cell_type": "code",
   "execution_count": 1,
   "id": "365522d9",
   "metadata": {},
   "outputs": [
    {
     "name": "stdout",
     "output_type": "stream",
     "text": [
      "True\n",
      "False\n"
     ]
    }
   ],
   "source": [
    "class Stack:\n",
    "    def __init__(self):\n",
    "        self.stack = []\n",
    "\n",
    "    def push(self, item):\n",
    "        self.stack.append(item)\n",
    "\n",
    "    def pop(self):\n",
    "        return self.stack.pop()\n",
    "\n",
    "    def is_empty(self):\n",
    "        return len(self.stack) == 0\n",
    "\n",
    "def check(input_string):\n",
    "    stack = Stack()\n",
    "    brackets = {'(': ')'}\n",
    "\n",
    "    for char in input_string:\n",
    "        if char in brackets:\n",
    "            stack.push(char)\n",
    "        elif char == ')':\n",
    "            if stack.is_empty() or brackets[stack.pop()] != char:\n",
    "                return False\n",
    "    \n",
    "    return stack.is_empty()\n",
    "\n",
    "# Пример использования\n",
    "input_string1 = '((dsasdas((das(d)das)d)asd)da)'\n",
    "input_string2 = '(f(gfhd((hgfdg((fghh)dads)das))ds)adddads())))'\n",
    "\n",
    "print(check_brackets(input_string1))  # Вывод: True\n",
    "print(check_brackets(input_string2))  # Вывод: False"
   ]
  },
  {
   "cell_type": "markdown",
   "id": "5aade76c",
   "metadata": {},
   "source": [
    "2 задание"
   ]
  },
  {
   "cell_type": "code",
   "execution_count": null,
   "id": "47f892ac",
   "metadata": {},
   "outputs": [],
   "source": [
    "class Stack:\n",
    "    def __init__(self, capacity):\n",
    "        self.stack = []\n",
    "        self.capacity = capacity\n",
    "\n",
    "    def push(self, element):\n",
    "        if len(self.stack) < self.capacity:\n",
    "            self.stack.append(element)\n",
    "        else:\n",
    "            raise ValueError(\"Stack overflow\")\n",
    "\n",
    "    def pop(self):\n",
    "        if self.is_empty():\n",
    "            raise ValueError(\"Stack is empty\")\n",
    "        return self.stack.pop()\n",
    "\n",
    "    def top(self):\n",
    "        if self.is_empty():\n",
    "            raise ValueError(\"Stack is empty\")\n",
    "        return self.stack[-1]\n",
    "\n",
    "    def empty(self):\n",
    "        return len(self.stack) == 0\n",
    "\n",
    "    def __len__(self):\n",
    "        return len(self.stack)\n",
    "\n",
    "# Пример использования\n",
    "stack = Stack(5)\n",
    "\n",
    "stack.push(1)\n",
    "stack.push(2)\n",
    "stack.push(3)\n",
    "print(stack.top())    # Вывод: 3\n",
    "print(len(stack))      # Вывод: 3\n",
    "\n",
    "stack.pop()\n",
    "print(stack.top())    # Вывод: 2\n",
    "print(len(stack))      # Вывод: 2\n",
    "\n",
    "stack.push(4)\n",
    "stack.push(5)"
   ]
  },
  {
   "cell_type": "markdown",
   "id": "48acc96f",
   "metadata": {},
   "source": [
    "Задание 3"
   ]
  },
  {
   "cell_type": "code",
   "execution_count": null,
   "id": "cb96e81f",
   "metadata": {},
   "outputs": [],
   "source": [
    "class Node:\n",
    "    def __init__(self, data=None):\n",
    "        self.data = data\n",
    "        self.next = None\n",
    "\n",
    "class SinglyLinkedList:\n",
    "    def __init__(self):\n",
    "        self.head = None\n",
    "\n",
    "    def add_at_beginning(self, data):\n",
    "        new_node = Node(data)\n",
    "        new_node.next = self.head\n",
    "        self.head = new_node\n",
    "\n",
    "    def display(self):\n",
    "        current = self.head\n",
    "        while current:\n",
    "            print(current.data, end=\" \")\n",
    "            current = current.next\n",
    "        print()\n",
    "\n",
    "# Пример использования\n",
    "sll = SinglyLinkedList()\n",
    "sll.add_at_beginning(3)\n",
    "sll.add_at_beginning(2)\n",
    "sll.add_at_beginning(1)\n",
    "\n",
    "sll.display()  # Вывод: 1 2 3"
   ]
  },
  {
   "cell_type": "markdown",
   "id": "c546848f",
   "metadata": {},
   "source": [
    "Задание 4"
   ]
  },
  {
   "cell_type": "code",
   "execution_count": null,
   "id": "937a929e",
   "metadata": {},
   "outputs": [],
   "source": []
  },
  {
   "cell_type": "markdown",
   "id": "29bd0312",
   "metadata": {},
   "source": [
    "Задание 5"
   ]
  },
  {
   "cell_type": "code",
   "execution_count": null,
   "id": "fa0f4d39",
   "metadata": {},
   "outputs": [],
   "source": []
  }
 ],
 "metadata": {
  "kernelspec": {
   "display_name": "Python 3 (ipykernel)",
   "language": "python",
   "name": "python3"
  },
  "language_info": {
   "codemirror_mode": {
    "name": "ipython",
    "version": 3
   },
   "file_extension": ".py",
   "mimetype": "text/x-python",
   "name": "python",
   "nbconvert_exporter": "python",
   "pygments_lexer": "ipython3",
   "version": "3.10.9"
  }
 },
 "nbformat": 4,
 "nbformat_minor": 5
}
